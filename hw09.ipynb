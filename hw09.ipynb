{
 "cells": [
  {
   "cell_type": "markdown",
   "id": "bbea800c-241d-42b4-a744-ecaffe13959e",
   "metadata": {},
   "source": [
    "# Metadata\n",
    "\n",
    "```yaml\n",
    "Course:  DS 5100\n",
    "Module:  09 Python Packages\n",
    "Topic:   HW Package Booklover\n",
    "Author:  R.C. Alvarado (adapted)\n",
    "Date:    7 July 2023 (revised)\n",
    "```"
   ]
  },
  {
   "cell_type": "markdown",
   "id": "36f46fdd-2405-4dc8-9ea1-33f395e56cc0",
   "metadata": {},
   "source": [
    "# Student Info\n",
    "\n",
    "* Name:  Reanna Panagides\n",
    "* Net UD: rkp3em\n",
    "* URL of this file in GitHub:"
   ]
  },
  {
   "cell_type": "markdown",
   "id": "375875a8-1503-46eb-8ea1-7e5bf39b5c41",
   "metadata": {},
   "source": [
    "# Instructions\n",
    "\n",
    "In your **private course repo on Rivanna**, use this Jupyter notebook and the data file described to write code that performs the tasks below. \n",
    "\n",
    "Save your notebook in the `M09` directory.\n",
    "\n",
    "Remember to add and commit these files to your repo. \n",
    "\n",
    "Then push your commits to your repo on GitHib.\n",
    "\n",
    "Be sure to fill out the **Student Info** block above.\n",
    "\n",
    "To submit your homework, save your results as a PDF and upload it to GradeScope. More information about how to create the PDF for this assignment are included at the end of this document.\n",
    "\n",
    "**TOTAL POINTS: 8**"
   ]
  },
  {
   "cell_type": "markdown",
   "id": "1baf08dc-35fe-44f1-bc26-7e1130ee993e",
   "metadata": {},
   "source": [
    "# Overview\n",
    "\n",
    "Follow the following recipe we used in class to package the code you wrote for `HW08` -- `booklover.py` and `booklover_test.py`.\n",
    "\n",
    "* Create a new git repo for your package.\n",
    "* Create and edit the required files and directories for your package and move the booklover modules there.\n",
    "* Stage, commit, and push all the files you've created.\n",
    "* Install your package with pip.\n",
    "* Outside of your package dir, write a script to test your method.\n",
    "\n",
    "Put this notebook in your repo. This will allow you to execute bash commands and capture the outpunt directly in the notebook.\n",
    "\n",
    "**TOTAL: 8 POINTS**"
   ]
  },
  {
   "cell_type": "markdown",
   "id": "6e39ba79-49ee-41e8-9e49-23d9d6bac2e0",
   "metadata": {
    "tags": []
   },
   "source": [
    "# Tasks"
   ]
  },
  {
   "cell_type": "markdown",
   "id": "fb11de14",
   "metadata": {},
   "source": [
    "## Task 1\n",
    "\n",
    "(5 points)\n",
    "\n",
    "Show the directory structure of your repo by running this command from the root of your repo:"
   ]
  },
  {
   "cell_type": "raw",
   "id": "d7d5d67e-f12e-4963-aa73-6b80bab9fcd5",
   "metadata": {},
   "source": [
    "rpana@Reanna MINGW64 ~/hw09 (main)\n",
    "$ ls -lR\n",
    ".:\n",
    "total 14\n",
    "-rw-r--r-- 1 rpana 197121 1088 Jul 31 12:08 LICENSE\n",
    "-rw-r--r-- 1 rpana 197121    6 Jul 31 12:08 README.md\n",
    "drwxr-xr-x 1 rpana 197121    0 Jul 31 12:08 bookpackage/\n",
    "-rw-r--r-- 1 rpana 197121 5270 Jul 31 12:14 hw09.ipynb\n",
    "-rw-r--r-- 1 rpana 197121  325 Jul 31 12:08 setup.py\n",
    "\n",
    "./bookpackage:\n",
    "total 9\n",
    "-rw-r--r-- 1 rpana 197121   60 Jul 31 12:08 __init__.py\n",
    "-rw-r--r-- 1 rpana 197121 1304 Jul 31 12:08 booklover.py\n",
    "-rw-r--r-- 1 rpana 197121 2758 Jul 31 12:08 booklover_test.py"
   ]
  },
  {
   "cell_type": "markdown",
   "id": "20e936e4-019f-41a3-8ca0-266657449f7b",
   "metadata": {},
   "source": [
    "## Task 2\n",
    "\n",
    "(1 point)\n",
    "\n",
    "Put the URL of your GitHub repo here. Just paste it into a Markdown cell."
   ]
  },
  {
   "cell_type": "markdown",
   "id": "4d09d889-6104-4f20-b31c-2d8a72b17693",
   "metadata": {},
   "source": [
    "URL: https://github.com/rpanagides/hw09/tree/main"
   ]
  },
  {
   "cell_type": "markdown",
   "id": "f989dcd1-b1d2-4eb9-8ef6-8ca2d8495260",
   "metadata": {
    "lines_to_next_cell": 0
   },
   "source": [
    "## Task 3\n",
    "\n",
    "(1 point)\n",
    "\n",
    "Show the results of installing your package.\n",
    "\n",
    "```bash\n",
    "!pip install -e .\n",
    "```"
   ]
  },
  {
   "cell_type": "raw",
   "id": "e8567668-6ff4-4744-b9bb-0671b476fb6a",
   "metadata": {},
   "source": [
    "rpana@Reanna MINGW64 ~/hw09 (main)\n",
    "$ pip install -e .\n",
    "Defaulting to user installation because normal site-packages is not writeable\n",
    "Obtaining file:///C:/Users/rpana/hw09\n",
    "Installing collected packages: bookpackage\n",
    "  Running setup.py develop for bookpackage\n",
    "Successfully installed bookpackage-0.1\n",
    "WARNING: You are using pip version 21.1.3; however, version 23.2.1 is available.\n",
    "You should consider upgrading via the 'c:\\program files\\python39\\python.exe -m pip install --upgrade pip' command."
   ]
  },
  {
   "cell_type": "markdown",
   "id": "5b1a642e-74f0-43ff-97a3-9ddc7553978e",
   "metadata": {},
   "source": [
    "## Task 4\n",
    "\n",
    "(1 point)\n",
    "\n",
    "Create a file outside your repo to test your package by running it.\n",
    "\n",
    "To do this, import the package into your file and create a BookLover object.\n",
    "\n",
    "Then add a book and then print number books read.\n",
    "\n",
    "Then run the file. \n",
    "\n",
    "Show the output of running the file below, using a command like the following:\n",
    "\n",
    "```bash\n",
    "!python ../book_lover_demo.py\n",
    "```"
   ]
  },
  {
   "cell_type": "raw",
   "id": "2e9f6f1b-0084-41f1-8a04-e7032dca9ac6",
   "metadata": {},
   "source": [
    "rpana@Reanna MINGW64 ~\n",
    "$ python \"C:\\Users\\rpana\\book_lover_demo.py\"\n",
    "welcome to my module!\n",
    "c:\\users\\rpana\\hw09\\bookpackage\\booklover.py:14: FutureWarning: elementwise comparison failed; returning scalar instead, but in the future will perform elementwise comparison\n",
    "  if book_name not in self.book_list['book_name'].values:\n",
    "Your book has been added to our book list!\n",
    "1"
   ]
  }
 ],
 "metadata": {
  "jupytext": {
   "cell_metadata_filter": "-all",
   "main_language": "bash",
   "notebook_metadata_filter": "-all"
  },
  "kernelspec": {
   "display_name": "Python 3 (ipykernel)",
   "language": "python",
   "name": "python3"
  },
  "language_info": {
   "codemirror_mode": {
    "name": "ipython",
    "version": 3
   },
   "file_extension": ".py",
   "mimetype": "text/x-python",
   "name": "python",
   "nbconvert_exporter": "python",
   "pygments_lexer": "ipython3",
   "version": "3.10.9"
  },
  "vscode": {
   "interpreter": {
    "hash": "c3b963de08c47c3b6758389c5e0978ad73698a111eb508d4e16b558edb8f4cbf"
   }
  },
  "widgets": {
   "application/vnd.jupyter.widget-state+json": {
    "state": {},
    "version_major": 2,
    "version_minor": 0
   }
  }
 },
 "nbformat": 4,
 "nbformat_minor": 5
}
